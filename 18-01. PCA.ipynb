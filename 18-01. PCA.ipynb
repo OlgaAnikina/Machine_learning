{
 "cells": [
  {
   "cell_type": "code",
   "execution_count": 1,
   "metadata": {
    "collapsed": true
   },
   "outputs": [],
   "source": [
    "import numpy as np\n",
    "import matplotlib.pyplot as plt\n",
    "%matplotlib inline"
   ]
  },
  {
   "cell_type": "markdown",
   "metadata": {},
   "source": [
    "# Метод главных компонент \n",
    "\n",
    "(Principal component analisys – PCA)"
   ]
  },
  {
   "cell_type": "code",
   "execution_count": 2,
   "metadata": {
    "collapsed": false
   },
   "outputs": [
    {
     "data": {
      "image/png": "[encoded data removed]",
      "text/plain": [
       "<matplotlib.figure.Figure at 0xa0ec9e8>"
      ]
     },
     "metadata": {},
     "output_type": "display_data"
    }
   ],
   "source": [
    "np.random.seed(0)\n",
    "N = 200\n",
    "X_init = np.random.randn(N, 2)\n",
    "A = np.array([[2, -1], [3, 1]])\n",
    "X = np.dot(X_init, A.T)\n",
    "plt.scatter(X[:, 0], X[:, 1], color = 'b', alpha = 0.65)\n",
    "plt.axis('equal')\n",
    "pass"
   ]
  },
  {
   "cell_type": "code",
   "execution_count": 4,
   "metadata": {
    "collapsed": false
   },
   "outputs": [
    {
     "name": "stdout",
     "output_type": "stream",
     "text": [
      "Главные компоненты (по строкам):\n",
      "[[-0.54293905 -0.8397721 ]\n",
      " [ 0.8397721  -0.54293905]]\n",
      "Дисперсии по главным компонентам:\n",
      "[ 12.88108587   1.83911588]\n"
     ]
    }
   ],
   "source": [
    "from sklearn.decomposition import PCA\n",
    "pca = PCA(n_components = 2)\n",
    "pca.fit(X)\n",
    "print \"Главные компоненты (по строкам):\"\n",
    "print(pca.components_)\n",
    "print \"Дисперсии по главным компонентам:\"\n",
    "print(pca.explained_variance_)"
   ]
  },
  {
   "cell_type": "code",
   "execution_count": 5,
   "metadata": {
    "collapsed": false
   },
   "outputs": [
    {
     "name": "stdout",
     "output_type": "stream",
     "text": [
      "Среднеквадратические отклонения:\n",
      "[ 3.58902297  1.35614007]\n"
     ]
    }
   ],
   "source": [
    "print \"Среднеквадратические отклонения:\"\n",
    "print(np.sqrt(pca.explained_variance_))"
   ]
  },
  {
   "cell_type": "code",
   "execution_count": 255,
   "metadata": {
    "collapsed": false
   },
   "outputs": [
    {
     "data": {
      "text/plain": [
       "array([[ 1.,  0.],\n",
       "       [ 0.,  1.]])"
      ]
     },
     "execution_count": 255,
     "metadata": {},
     "output_type": "execute_result"
    }
   ],
   "source": [
    "np.dot(pca.components_, pca.components_.T)"
   ]
  },
  {
   "cell_type": "code",
   "execution_count": 262,
   "metadata": {
    "collapsed": false
   },
   "outputs": [
    {
     "data": {
      "image/png": "[encoded data removed]",
      "text/plain": [
       "<matplotlib.figure.Figure at 0x16839160>"
      ]
     },
     "metadata": {},
     "output_type": "display_data"
    }
   ],
   "source": [
    "plt.scatter(X[:, 0], X[:, 1], color = 'b', alpha = 0.65)\n",
    "v0 = np.sqrt(pca.explained_variance_[0])*pca.components_[0]\n",
    "v1 = np.sqrt(pca.explained_variance_[1])*pca.components_[1]\n",
    "plt.arrow(0, 0, v0[0], v0[1], color = 'r', width = .005, head_width = .5)\n",
    "plt.arrow(0, 0, v1[0], v1[1], color = 'r', width = .005, head_width = .5)\n",
    "plt.axis('equal');"
   ]
  },
  {
   "cell_type": "markdown",
   "metadata": {},
   "source": [
    "### Как самим найти главные компоненты?"
   ]
  },
  {
   "cell_type": "markdown",
   "metadata": {},
   "source": [
    "#### 1. Через собственные векторы матрицы ковариации\n",
    "\n",
    "Вначале оценим матрицу ковариации:"
   ]
  },
  {
   "cell_type": "code",
   "execution_count": 264,
   "metadata": {
    "collapsed": false
   },
   "outputs": [
    {
     "name": "stdout",
     "output_type": "stream",
     "text": [
      "[[ 5.11969737  5.05983094]\n",
      " [ 5.05983094  9.67447524]]\n"
     ]
    }
   ],
   "source": [
    "C = np.cov(X, rowvar = 0) \n",
    "print C"
   ]
  },
  {
   "cell_type": "code",
   "execution_count": 266,
   "metadata": {
    "collapsed": false
   },
   "outputs": [
    {
     "name": "stdout",
     "output_type": "stream",
     "text": [
      "[[ 5.11969737  5.05983094]\n",
      " [ 5.05983094  9.67447524]]\n"
     ]
    }
   ],
   "source": [
    "X_c = X - X.mean(axis = 0)\n",
    "print np.dot(X_c.T, X_c)/(N - 1) "
   ]
  },
  {
   "cell_type": "code",
   "execution_count": 267,
   "metadata": {
    "collapsed": false
   },
   "outputs": [
    {
     "name": "stdout",
     "output_type": "stream",
     "text": [
      "[[ 5.14508944  5.09196281]\n",
      " [ 5.09196281  9.71513585]]\n"
     ]
    }
   ],
   "source": [
    "print np.dot(X.T, X)/(N - 1) \n",
    "    # Данные нужно центрировать, но для наших данных _теоретический_ центр в 0\n",
    "    # Из-за этого небольшое отличие от результата функции `np.cov()`"
   ]
  },
  {
   "cell_type": "code",
   "execution_count": 208,
   "metadata": {
    "collapsed": false
   },
   "outputs": [
    {
     "name": "stdout",
     "output_type": "stream",
     "text": [
      "[[ 5  5]\n",
      " [ 5 10]]\n"
     ]
    }
   ],
   "source": [
    "# Мы сами сгенерировали данные, поэтому матрица ковариации нам известна точно:\n",
    "print np.dot(A, A.T)"
   ]
  },
  {
   "cell_type": "markdown",
   "metadata": {},
   "source": [
    "Главные компоненты – это собственные векторы матрицы ковариации (в соответствующем порядке), а дисперсии по главным компонентам – собственные числа:"
   ]
  },
  {
   "cell_type": "code",
   "execution_count": 209,
   "metadata": {
    "collapsed": false
   },
   "outputs": [
    {
     "name": "stdout",
     "output_type": "stream",
     "text": [
      "[  1.84835767  12.94581495]\n",
      "[[-0.8397721  -0.54293905]\n",
      " [ 0.54293905 -0.8397721 ]]\n"
     ]
    }
   ],
   "source": [
    "D, Q = np.linalg.eig(C)\n",
    "print D\n",
    "print Q"
   ]
  },
  {
   "cell_type": "markdown",
   "metadata": {},
   "source": [
    "$$\n",
    "D = Q^{-1} C Q\n",
    "\\quad\n",
    "\\Leftrightarrow\n",
    "\\quad\n",
    "C = QDQ^{-1}\n",
    "$$\n",
    "\n",
    "$D$ – диагональная матрица, составленная из собственных чисел на диагонали (дисперсий по главным компонентам)\n",
    "\n",
    "$Q$ – матрица, составленная из собственных векторов (главных компонент), $Q^{-1} = Q^{\\rm T}$"
   ]
  },
  {
   "cell_type": "code",
   "execution_count": 270,
   "metadata": {
    "collapsed": false
   },
   "outputs": [
    {
     "data": {
      "text/plain": [
       "array([[ 1.,  0.],\n",
       "       [ 0.,  1.]])"
      ]
     },
     "execution_count": 270,
     "metadata": {},
     "output_type": "execute_result"
    }
   ],
   "source": [
    "# Проверка:\n",
    "np.dot(Q.T, Q)"
   ]
  },
  {
   "cell_type": "code",
   "execution_count": 269,
   "metadata": {
    "collapsed": false
   },
   "outputs": [
    {
     "data": {
      "text/plain": [
       "array([[  1.84835767e+00,   2.22044605e-16],\n",
       "       [  0.00000000e+00,   1.29458149e+01]])"
      ]
     },
     "execution_count": 269,
     "metadata": {},
     "output_type": "execute_result"
    }
   ],
   "source": [
    "# Проверка:\n",
    "np.dot(np.dot(Q.T, C), Q)"
   ]
  },
  {
   "cell_type": "markdown",
   "metadata": {},
   "source": [
    "#### 2. Через сингулярное разложение\n",
    "\n",
    "Более профессиональный способ.\n",
    "Не требует нахождения матрицы $C$ и выполнения умножения $X^{\\rm T} X$.\n",
    "\n",
    "_Сингулярное разложение_ матрицы $X$ – это\n",
    "\n",
    "$$\n",
    "\\underbrace{X}_{N\\times d} = \\underbrace{U}_{N\\times N} \\cdot\n",
    "\\underbrace{\\Sigma}_{N\\times d} \\cdot\n",
    "\\underbrace{V^{\\rm T}}_{d\\times d}\n",
    "$$\n",
    "\n",
    "Матрицы $U$ и $V$ – ортогональные ($U^{-1} = U^{\\rm T}$, $V^{-1} = V^{\\rm T}$)\n",
    "\n",
    "Матрица $\\Sigma$ – диагональная с неотрицательными диагональными элементами (_сингулярными числами_), записанными в порядке убывания\n",
    "\n",
    "В матрице $U$ по столбцам – _левые сингулярные векторы_\n",
    "\n",
    "В матрице $V$ по столбцам – _правые сингулярные векторы_ (это и есть главные компоненты!)"
   ]
  },
  {
   "cell_type": "markdown",
   "metadata": {},
   "source": [
    "Пусть $d < N$, тогда лучше использовать _неполное сингулярное разложение_:\n",
    "$$\n",
    "\\underbrace{X}_{N\\times d} = \\underbrace{U}_{N\\times d} \\cdot\n",
    "\\underbrace{\\Sigma}_{d\\times d} \\cdot\n",
    "\\underbrace{V^{\\rm T}}_{d\\times d}\n",
    "$$\n"
   ]
  },
  {
   "cell_type": "markdown",
   "metadata": {},
   "source": [
    "Если $d > N$, то наоборот:\n",
    "$$\n",
    "\\underbrace{X}_{N\\times d} = \\underbrace{U}_{N\\times N} \\cdot\n",
    "\\underbrace{\\Sigma}_{N\\times N} \\cdot\n",
    "\\underbrace{V^{\\rm T}}_{N\\times d}\n",
    "$$"
   ]
  },
  {
   "cell_type": "code",
   "execution_count": 276,
   "metadata": {
    "collapsed": false
   },
   "outputs": [],
   "source": [
    "U, Sigma, Vt = np.linalg.svd(X, full_matrices = False)"
   ]
  },
  {
   "cell_type": "code",
   "execution_count": 277,
   "metadata": {
    "collapsed": false
   },
   "outputs": [
    {
     "name": "stdout",
     "output_type": "stream",
     "text": [
      "[ 50.88461942  19.18177104]\n",
      "[[-0.5434074  -0.83946912]\n",
      " [ 0.83946912 -0.5434074 ]]\n"
     ]
    }
   ],
   "source": [
    "#print U\n",
    "print Sigma\n",
    "print Vt"
   ]
  },
  {
   "cell_type": "markdown",
   "metadata": {},
   "source": [
    "Пусть данные в $X$ центрированы, тогда\n",
    "$$\n",
    "C = \\frac{1}{N-1} X^{\\rm T} X = \\frac{1}{N-1} (U \\Sigma V^{\\rm T})^{\\rm T} (U \\Sigma V^{\\rm T}) = \n",
    "\\frac{1}{N-1} V\\Sigma^2 V^{\\rm T} = V \\left(\\frac{1}{N-1} \\Sigma^2\\right) V^{\\rm T}\n",
    "$$\n",
    "\n",
    "Итак, $V$ составлена из главных компонент (правых сингулярных векторов). \n",
    "\n",
    "С точностью до перестановки столбцов $V=Q$.\n",
    "\n",
    "$\\frac{1}{N-1} \\Sigma^2$ составлена из дисперсий по главным компонентам.\n",
    "\n",
    "С точностью до перестановки диагональных элементов $\\frac{1}{N-1} \\Sigma^2 = D$."
   ]
  },
  {
   "cell_type": "code",
   "execution_count": 279,
   "metadata": {
    "collapsed": false
   },
   "outputs": [
    {
     "name": "stdout",
     "output_type": "stream",
     "text": [
      "[ 12.94622247   1.8397017 ]\n"
     ]
    }
   ],
   "source": [
    "print Sigma**2/(N - 1)"
   ]
  },
  {
   "cell_type": "markdown",
   "metadata": {},
   "source": [
    "### Какое количество главных компонент выбрать?\n",
    "\n",
    "Пусть $\\sigma_1^2 \\ge \\sigma_2^2 \\ge \\dots \\ge \\sigma_s^2 \\ge \\dots \\ge \\sigma_d^2 \\ge 0$ – дисперсии по главным компонентам (собственные числа матрицы ковариации $C$).\n",
    "\n",
    "Один из способов выбора необходимого числа $s$ главных компонент:\n",
    "\n",
    "Объясненная дисперсия не меньше некоторого заданного уровня $\\alpha$ (например, $\\alpha = 0.95$):\n",
    "\n",
    "$$\n",
    "\\frac{\\sigma_1^2 + \\sigma_2^2 + \\dots + \\sigma_s^2}{\\sigma_1^2 + \\sigma_2^2 + \\dots + \\sigma_s^2 + \\dots +\\sigma^2_d} \\ge \\alpha\n",
    "$$\n",
    "\n",
    "Заметим, что $\\sigma_1^2 + \\sigma_2^2 + \\dots + \\sigma_s^2 + \\dots +\\sigma^2_d = {\\rm tr \\,C}$"
   ]
  },
  {
   "cell_type": "code",
   "execution_count": 290,
   "metadata": {
    "collapsed": false
   },
   "outputs": [
    {
     "name": "stdout",
     "output_type": "stream",
     "text": [
      "(200L, 2L)\n",
      "(200L, 2L)\n"
     ]
    }
   ],
   "source": [
    "pca_model = PCA(n_components = 0.95) # сохраняем 85% дисперсии\n",
    "pca_model.fit(X)\n",
    "X_proj = pca_model.transform(X)\n",
    "print(X.shape)\n",
    "print(X_proj.shape)"
   ]
  },
  {
   "cell_type": "code",
   "execution_count": 291,
   "metadata": {
    "collapsed": false
   },
   "outputs": [
    {
     "data": {
      "image/png": "[encoded data removed]",
      "text/plain": [
       "<matplotlib.figure.Figure at 0x185a2588>"
      ]
     },
     "metadata": {},
     "output_type": "display_data"
    }
   ],
   "source": [
    "X_new = pca_model.inverse_transform(X_proj)\n",
    "plt.scatter(X[:, 0],     X[:, 1],     alpha = 0.35, color = 'b')\n",
    "plt.scatter(X_new[:, 0], X_new[:, 1], alpha = 0.35, color = 'r')\n",
    "plt.axis('equal');"
   ]
  },
  {
   "cell_type": "code",
   "execution_count": 292,
   "metadata": {
    "collapsed": false
   },
   "outputs": [
    {
     "data": {
      "text/plain": [
       "array([ 0.87506177,  0.12493823])"
      ]
     },
     "execution_count": 292,
     "metadata": {},
     "output_type": "execute_result"
    }
   ],
   "source": [
    "pca_model.explained_variance_ratio_"
   ]
  },
  {
   "cell_type": "code",
   "execution_count": 198,
   "metadata": {
    "collapsed": false
   },
   "outputs": [
    {
     "data": {
      "text/plain": [
       "0.87506177490196368"
      ]
     },
     "execution_count": 198,
     "metadata": {},
     "output_type": "execute_result"
    }
   ],
   "source": [
    "pca.explained_variance_[0]/(np.sum(pca.explained_variance_))"
   ]
  },
  {
   "cell_type": "code",
   "execution_count": 226,
   "metadata": {
    "collapsed": false
   },
   "outputs": [
    {
     "data": {
      "text/plain": [
       "0.87068646602745392"
      ]
     },
     "execution_count": 226,
     "metadata": {},
     "output_type": "execute_result"
    }
   ],
   "source": [
    "pca_model.explained_variance_[0]/(np.sum(np.diag(C)))"
   ]
  },
  {
   "cell_type": "markdown",
   "metadata": {},
   "source": [
    "###Whiten – «отбеливание», декорреляция"
   ]
  },
  {
   "cell_type": "code",
   "execution_count": 296,
   "metadata": {
    "collapsed": false
   },
   "outputs": [
    {
     "name": "stdout",
     "output_type": "stream",
     "text": [
      "Главные компоненты (по строкам):\n",
      "[[-0.15127768 -0.23398349]\n",
      " [ 0.619237   -0.40035618]]\n",
      "Дисперсии по главным компонентам:\n",
      "[ 12.88108587   1.83911588]\n"
     ]
    }
   ],
   "source": [
    "pca = PCA(n_components = 2, whiten = True)\n",
    "pca.fit(X)\n",
    "print \"Главные компоненты (по строкам):\"\n",
    "print(pca.components_)\n",
    "print \"Дисперсии по главным компонентам:\"\n",
    "print(pca.explained_variance_)"
   ]
  },
  {
   "cell_type": "code",
   "execution_count": 298,
   "metadata": {
    "collapsed": false
   },
   "outputs": [
    {
     "data": {
      "text/plain": [
       "array([[  7.76332065e-02,  -1.38777878e-17],\n",
       "       [ -1.38777878e-17,   5.43739528e-01]])"
      ]
     },
     "execution_count": 298,
     "metadata": {},
     "output_type": "execute_result"
    }
   ],
   "source": [
    "np.dot(pca.components_, pca.components_.T)"
   ]
  },
  {
   "cell_type": "code",
   "execution_count": 299,
   "metadata": {
    "collapsed": true
   },
   "outputs": [],
   "source": [
    "X_proj = pca.transform(X)"
   ]
  },
  {
   "cell_type": "code",
   "execution_count": 300,
   "metadata": {
    "collapsed": false
   },
   "outputs": [
    {
     "data": {
      "image/png": "[encoded data removed]",
      "text/plain": [
       "<matplotlib.figure.Figure at 0x1869ceb8>"
      ]
     },
     "metadata": {},
     "output_type": "display_data"
    }
   ],
   "source": [
    "plt.scatter(X[:, 0], X[:, 1], color = 'b', alpha = 0.65)\n",
    "plt.scatter(X_proj[:, 0], X_proj[:, 1], color = 'violet', alpha = 0.55)\n",
    "v0 = np.sqrt(pca.explained_variance_[0])*pca.components_[0]\n",
    "v1 = np.sqrt(pca.explained_variance_[1])*pca.components_[1]\n",
    "plt.arrow(0, 0, v0[0], v0[1], color = 'r', width = .005, head_width = .5)\n",
    "plt.arrow(0, 0, v1[0], v1[1], color = 'r', width = .005, head_width = .5)\n",
    "plt.axis('equal');"
   ]
  },
  {
   "cell_type": "code",
   "execution_count": null,
   "metadata": {
    "collapsed": true
   },
   "outputs": [],
   "source": []
  }
 ],
 "metadata": {
  "kernelspec": {
   "display_name": "Python 2",
   "language": "python",
   "name": "python2"
  },
  "language_info": {
   "codemirror_mode": {
    "name": "ipython",
    "version": 2
   },
   "file_extension": ".py",
   "mimetype": "text/x-python",
   "name": "python",
   "nbconvert_exporter": "python",
   "pygments_lexer": "ipython2",
   "version": "2.7.9"
  }
 },
 "nbformat": 4,
 "nbformat_minor": 0
}
